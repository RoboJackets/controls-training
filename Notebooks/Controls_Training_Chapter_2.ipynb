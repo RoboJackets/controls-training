{
 "cells": [
  {
   "cell_type": "markdown",
   "metadata": {},
   "source": [
    "## Preliminaries\n",
    "Just like last time, you'll need to run the following box in order to set up the support code and libraries we use. If you're on Google colab, it'll download our library. "
   ]
  },
  {
   "cell_type": "code",
   "execution_count": 1,
   "metadata": {},
   "outputs": [],
   "source": [
    "import numpy as np\n",
    "import scipy\n",
    "\n",
    "import os\n",
    "if not os.path.exists('rj_controls.py'):\n",
    "    !wget https://gist.githubusercontent.com/kylestach/478a46de93cf2ccc83a9aabfa3869cb8/raw/0cbc69675dfa284f0bff05bd68e00203391badc7/simulate.py wat.py\n",
    "\n",
    "import rj_controls as rjc"
   ]
  },
  {
   "cell_type": "markdown",
   "metadata": {},
   "source": [
    "# Chapter 2: Modeling Systems\n",
    "\n",
    "# General Mathematical Model\n",
    " - General form\n",
    "\n",
    "# Continuous and Discrete Time\n",
    "\n",
    "# Linear Systems\n",
    " - General form (continuous and discrete time)\n",
    " - Explanation and intuition\n",
    " \n",
    "# Common Systems\n",
    " - DC Motor\n",
    " -  Differential Drivetrain\n",
    " -  RoboCup Drivetrain\n",
    " \n",
    "# Discretization\n",
    " - First-order hold\n",
    " - Euler discretization\n",
    " - Analytical discretization (`scipy.cont2discrete`)\n",
    "\n",
    "# Analysing Systems\n",
    " - Stability\n",
    " - Eigenvalues and eigenvectors\n",
    " \n",
    "## Time-Domain Analysis"
   ]
  }
 ],
 "metadata": {
  "kernelspec": {
   "display_name": "Python 3",
   "language": "python",
   "name": "python3"
  },
  "language_info": {
   "codemirror_mode": {
    "name": "ipython",
    "version": 3
   },
   "file_extension": ".py",
   "mimetype": "text/x-python",
   "name": "python",
   "nbconvert_exporter": "python",
   "pygments_lexer": "ipython3",
   "version": "3.8.2"
  }
 },
 "nbformat": 4,
 "nbformat_minor": 4
}
